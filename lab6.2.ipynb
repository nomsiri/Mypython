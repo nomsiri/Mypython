{
 "cells": [
  {
   "cell_type": "code",
   "execution_count": 16,
   "metadata": {},
   "outputs": [
    {
     "name": "stdout",
     "output_type": "stream",
     "text": [
      "name kong\n",
      "salaly 5000\n",
      "OT 200\n",
      "total: 5200\n"
     ]
    }
   ],
   "source": [
    "def overtime(time):\n",
    "    tim = 0 \n",
    "    if (time >= 40):\n",
    "        tim = time * 150\n",
    "    else:\n",
    "        tim = time * 100    \n",
    "    return tim\n",
    "\n",
    "name  = (input(\"ชื่อพนักงาน:\"))\n",
    "salaly = int(input(\"เงินเดือน:\"))\n",
    "time = int(input(\"ค่าล่วงเวลา:\"))\n",
    "print(\"name %s\" % name)\n",
    "print(\"salaly %d\" % salaly)\n",
    "print(\"OT %d\" % overtime(time))\n",
    "print(\"total: %d\" % (salaly+overtime(time)))"
   ]
  }
 ],
 "metadata": {
  "kernelspec": {
   "display_name": "Python 3",
   "language": "python",
   "name": "python3"
  },
  "language_info": {
   "codemirror_mode": {
    "name": "ipython",
    "version": 3
   },
   "file_extension": ".py",
   "mimetype": "text/x-python",
   "name": "python",
   "nbconvert_exporter": "python",
   "pygments_lexer": "ipython3",
   "version": "3.12.4"
  }
 },
 "nbformat": 4,
 "nbformat_minor": 2
}
